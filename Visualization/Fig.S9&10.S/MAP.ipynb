{
 "cells": [
  {
   "cell_type": "code",
   "execution_count": null,
   "metadata": {},
   "outputs": [],
   "source": [
    "from itertools import product"
   ]
  },
  {
   "cell_type": "code",
   "execution_count": null,
   "metadata": {},
   "outputs": [],
   "source": [
    "hidden_layer_widths = [8, 16, 24, 32]\n",
    "activation_functions = ['Tanh', 'ELU', 'ReLU', 'Sigmoid', 'Softplus']\n",
    "batch_sizes = [64, 128, 256]\n",
    "graph_convolutions = ['GINConv', 'GCNConv', 'AGNNConv', 'ClusterGCNConv', 'GATConv', 'GraphConv', 'LEConv', 'MFConv', 'SAGEConv']\n",
    "\n",
    "# 计算所有可能的组合\n",
    "all_combinations = list(product(hidden_layer_widths, activation_functions, batch_sizes, graph_convolutions))"
   ]
  },
  {
   "cell_type": "code",
   "execution_count": null,
   "metadata": {},
   "outputs": [],
   "source": [
    "# Convert the given data to two lists, one for experimental values and one for predicted values\n",
    "experimental_values = [\n",
    "    2.02454, 7.5092, 9.53374, 11.00613, 12.22699, 1.24675, 7.87013, \n",
    "    10.71429, 11.57143, 12.80519, 5.39308, 17.05975, 25.64465, 30.59748, \n",
    "    33.89937, 9.90566, 34.77987, 52.16981, 68.89937, 75.10972\n",
    "]\n",
    "\n",
    "predicted_values = [\n",
    "    5.14567, 6.63334, 8.5505, 10.36659, 12.50704, 4.9017, 6.95043, \n",
    "    9.30967, 10.89715, 12.84451, 5.13631, 17.04497, 29.47734, 31.60096, \n",
    "    33.76871, 6.64231, 37.39786, 53.05874, 63.72587, 74.42272\n",
    "]\n",
    "\n",
    "# Calculate the Mean Absolute Percentage Error (MAPE)\n",
    "mape = sum(abs((e - p) / e) for e, p in zip(experimental_values, predicted_values)) / len(experimental_values) * 100\n",
    "\n",
    "# Calculate accuracy as 100 - MAPE\n",
    "accuracy = 100 - mape\n",
    "accuracy"
   ]
  },
  {
   "cell_type": "code",
   "execution_count": null,
   "metadata": {},
   "outputs": [],
   "source": [
    "from rdkit import Chem\n",
    "\n",
    "# Attempt to create a SMILES representation for Zn4O(COO)6\n",
    "# This is a complex task due to the nature of the molecule and limitations of SMILES\n",
    "# The representation may not fully capture the 3D structure or electronic details\n",
    "\n",
    "# Basic structure components\n",
    "oxalate = \"C(=O)[O-]\"\n",
    "zinc = \"[Zn]\"\n",
    "\n",
    "# Constructing a basic representation\n",
    "# This is a very simplified and possibly inaccurate representation\n",
    "smiles = f\"{zinc}{oxalate}.{zinc}{oxalate}.{zinc}{oxalate}.{zinc}{oxalate}.O\"\n",
    "\n",
    "# Validate the SMILES string\n",
    "mol = Chem.MolFromSmiles(smiles)\n",
    "valid_smiles = Chem.MolToSmiles(mol) if mol else \"Invalid SMILES representation\"\n",
    "\n",
    "valid_smiles\n"
   ]
  }
 ],
 "metadata": {
  "kernelspec": {
   "display_name": "envpy38",
   "language": "python",
   "name": "python3"
  },
  "language_info": {
   "codemirror_mode": {
    "name": "ipython",
    "version": 3
   },
   "file_extension": ".py",
   "mimetype": "text/x-python",
   "name": "python",
   "nbconvert_exporter": "python",
   "pygments_lexer": "ipython3",
   "version": "3.8.16"
  }
 },
 "nbformat": 4,
 "nbformat_minor": 2
}
