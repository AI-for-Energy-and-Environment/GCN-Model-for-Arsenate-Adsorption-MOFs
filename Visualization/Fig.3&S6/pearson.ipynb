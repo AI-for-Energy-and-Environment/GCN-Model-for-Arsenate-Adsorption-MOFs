{
 "cells": [
  {
   "cell_type": "markdown",
   "metadata": {},
   "source": [
    "# per"
   ]
  },
  {
   "cell_type": "code",
   "execution_count": null,
   "metadata": {},
   "outputs": [],
   "source": [
    "import matplotlib.pyplot as plt\n",
    "import seaborn as sns\n",
    "import pandas as pd\n",
    "import numpy as np\n",
    "from scipy.stats import pearsonr"
   ]
  },
  {
   "cell_type": "code",
   "execution_count": null,
   "metadata": {},
   "outputs": [],
   "source": [
    "df = pd.read_csv('dis.csv')"
   ]
  },
  {
   "cell_type": "code",
   "execution_count": null,
   "metadata": {},
   "outputs": [],
   "source": [
    "# pearson\n",
    "Xper = df.drop(['HPC_index','name','metal_smiles','organ_smiles','topo','name','NAV_cm3_g', 'GLD', 'Capacity', 'Tem', 'pH', 'Dosage', 'Concentration'],axis=1)\n",
    "corr = Xper.corr()\n",
    "pval = pd.DataFrame(index=corr.index, columns=corr.columns)\n",
    "\n",
    "for col in corr.columns:\n",
    "    for row in corr.index:\n",
    "        pval.loc[row, col] = pearsonr(Xper[row], Xper[col])[1]"
   ]
  },
  {
   "cell_type": "code",
   "execution_count": null,
   "metadata": {},
   "outputs": [],
   "source": [
    "# pearson\n",
    "mask = np.triu(np.ones_like(corr, dtype=bool))\n",
    "\n",
    "plt.figure(figsize=(15, 10))\n",
    "sns.set(font_scale=3)\n",
    "\n",
    "ax = sns.heatmap(corr, mask=mask, annot=True, fmt='.2f', linewidths=0.3, cmap='GnBu', annot_kws={\"size\": 13})\n",
    "\n",
    "for i in range(len(corr.columns)):\n",
    "    for j in range(i):  \n",
    "        p_value = pval.iloc[i, j]\n",
    "        if p_value < 0.05:  \n",
    "            plt.text(j + 0.5, i + 0.2, '*', ha='center', va='center', color='black', fontsize=14)\n",
    "\n",
    "plt.tight_layout()\n",
    "plt.show()"
   ]
  },
  {
   "cell_type": "markdown",
   "metadata": {},
   "source": [
    "# dis"
   ]
  },
  {
   "cell_type": "code",
   "execution_count": null,
   "metadata": {},
   "outputs": [],
   "source": [
    "df1 = pd.read_csv('dis1.csv')\n",
    "df1"
   ]
  },
  {
   "cell_type": "code",
   "execution_count": null,
   "metadata": {},
   "outputs": [],
   "source": [
    "column_name = 'organ_smiles'\n",
    "\n",
    "value_counts = df1[column_name].value_counts()\n",
    "\n",
    "print(value_counts)"
   ]
  },
  {
   "cell_type": "code",
   "execution_count": null,
   "metadata": {},
   "outputs": [],
   "source": [
    "save_path = '.../...'\n",
    "value_counts.to_excel(save_path, index=True)"
   ]
  }
 ],
 "metadata": {
  "kernelspec": {
   "display_name": "envpy38",
   "language": "python",
   "name": "python3"
  },
  "language_info": {
   "codemirror_mode": {
    "name": "ipython",
    "version": 3
   },
   "file_extension": ".py",
   "mimetype": "text/x-python",
   "name": "python",
   "nbconvert_exporter": "python",
   "pygments_lexer": "ipython3",
   "version": "3.8.16"
  }
 },
 "nbformat": 4,
 "nbformat_minor": 2
}
